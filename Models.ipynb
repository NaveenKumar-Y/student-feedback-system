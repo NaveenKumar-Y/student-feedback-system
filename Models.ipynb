{
  "cells": [
    {
      "cell_type": "code",
      "execution_count": 2,
      "metadata": {
        "id": "sjlLvVoX7pUj"
      },
      "outputs": [],
      "source": [
        "import pandas as pd\n",
        "import numpy as np\n",
        "import pickle\n",
        "import nltk\n",
        "#nltk.download()\n",
        "from sklearn.feature_extraction.text import CountVectorizer\n",
        "from sklearn.feature_extraction.text import TfidfTransformer\n",
        "from sklearn.pipeline import Pipeline\n",
        "from nltk.stem.snowball import SnowballStemmer\n",
        "from sklearn.linear_model import SGDClassifier\n",
        "from sklearn.naive_bayes import MultinomialNB\n",
        "from sklearn.tree import DecisionTreeClassifier\n",
        "from sklearn.model_selection import train_test_split"
      ]
    },
    {
      "cell_type": "code",
      "execution_count": 3,
      "metadata": {
        "id": "FBBZ4qXa7pUn"
      },
      "outputs": [],
      "source": [
        "path = 'dataset/trainingdata.csv'\n",
        "data = pd.read_csv(path)\n",
        "data = data.dropna()"
      ]
    },
    {
      "cell_type": "code",
      "execution_count": 4,
      "metadata": {
        "colab": {
          "base_uri": "https://localhost:8080/",
          "height": 206
        },
        "id": "X7tOKA-z7pUo",
        "outputId": "7f36f69c-04e7-4d41-8578-13792c05435c"
      },
      "outputs": [
        {
          "data": {
            "text/html": [
              "<div>\n",
              "<style scoped>\n",
              "    .dataframe tbody tr th:only-of-type {\n",
              "        vertical-align: middle;\n",
              "    }\n",
              "\n",
              "    .dataframe tbody tr th {\n",
              "        vertical-align: top;\n",
              "    }\n",
              "\n",
              "    .dataframe thead th {\n",
              "        text-align: right;\n",
              "    }\n",
              "</style>\n",
              "<table border=\"1\" class=\"dataframe\">\n",
              "  <thead>\n",
              "    <tr style=\"text-align: right;\">\n",
              "      <th></th>\n",
              "      <th>sentiments</th>\n",
              "      <th>sentences</th>\n",
              "    </tr>\n",
              "  </thead>\n",
              "  <tbody>\n",
              "    <tr>\n",
              "      <th>0</th>\n",
              "      <td>-1.0</td>\n",
              "      <td>I can't understand the method of teaching</td>\n",
              "    </tr>\n",
              "    <tr>\n",
              "      <th>1</th>\n",
              "      <td>1.0</td>\n",
              "      <td>The instructor was interested in the students ...</td>\n",
              "    </tr>\n",
              "    <tr>\n",
              "      <th>2</th>\n",
              "      <td>-1.0</td>\n",
              "      <td>The instructor don't use any examples for expl...</td>\n",
              "    </tr>\n",
              "    <tr>\n",
              "      <th>3</th>\n",
              "      <td>0.0</td>\n",
              "      <td>Teaching is good but always late to class</td>\n",
              "    </tr>\n",
              "    <tr>\n",
              "      <th>4</th>\n",
              "      <td>-1.0</td>\n",
              "      <td>Explaination is poor</td>\n",
              "    </tr>\n",
              "  </tbody>\n",
              "</table>\n",
              "</div>"
            ],
            "text/plain": [
              "   sentiments                                          sentences\n",
              "0        -1.0          I can't understand the method of teaching\n",
              "1         1.0  The instructor was interested in the students ...\n",
              "2        -1.0  The instructor don't use any examples for expl...\n",
              "3         0.0          Teaching is good but always late to class\n",
              "4        -1.0                               Explaination is poor"
            ]
          },
          "execution_count": 4,
          "metadata": {},
          "output_type": "execute_result"
        }
      ],
      "source": [
        "data.head()"
      ]
    },
    {
      "cell_type": "code",
      "execution_count": 5,
      "metadata": {
        "id": "nvxWl16G7pUp"
      },
      "outputs": [],
      "source": [
        "# nltk.download('stopwords')\n",
        "# data['sentences'] = data['sentences'].apply(lambda x: \" \".join(x.lower() for x in x.split()))\n",
        "\n",
        "# #Removing Punctuation, Symbols\n",
        "# data['sentences'] = data['sentences'].str.replace('[^\\w\\s]',' ')\n",
        "\n",
        "# #Removing Stop Words using NLTK\n",
        "# from nltk.corpus import stopwords\n",
        "# stop = stopwords.words('english')\n",
        "# data['sentences'] = data['sentences'].apply(lambda x: \" \".join(x for x in x.split() if x not in stop))"
      ]
    },
    {
      "cell_type": "code",
      "execution_count": 6,
      "metadata": {
        "id": "ZIbf_Vbu7pUr"
      },
      "outputs": [],
      "source": [
        "# # Lemmatisation\n",
        "# !pip install textblob\n",
        "# nltk.download('textblob')\n",
        "# nltk.download('wordnet')\n",
        "# from textblob import Word\n",
        "# data['sentences'] = data['sentences'].apply(lambda x: \" \".join([Word(word).lemmatize() for word in x.split()]))\n",
        "\n",
        "# #Correcting Letter Repetitions\n",
        "# import re\n",
        "# def de_repeat(text):\n",
        "#     pattern = re.compile(r\"(.)\\1{2,}\")\n",
        "#     return pattern.sub(r\"\\1\\1\", text)\n",
        "\n",
        "# #%%\n",
        "# data['sentences'] = data['sentences'].apply(lambda x: \" \".join(de_repeat(x) for x in x.split()))"
      ]
    },
    {
      "cell_type": "code",
      "execution_count": 7,
      "metadata": {
        "id": "mWmglcYL7pUr"
      },
      "outputs": [],
      "source": [
        "# extract the labels from the train data\n",
        "y = data.sentiments.values\n",
        "\n",
        "# use 80% for the training and 20% for the test\n",
        "x_train, x_test, y_train, y_test = train_test_split(data.sentences.values, y, \n",
        "                                                    stratify=y, \n",
        "                                                    random_state=1, \n",
        "                                                    test_size=0.2, shuffle=True)"
      ]
    },
    {
      "cell_type": "code",
      "execution_count": 8,
      "metadata": {
        "id": "0ljqfK137pUs"
      },
      "outputs": [],
      "source": [
        "# Extracting TF-IDF parameters\n",
        "from sklearn.feature_extraction.text import TfidfVectorizer\n",
        "# tfidf = TfidfVectorizer(max_features=1000, analyzer='word',ngram_range=(1,3))\n",
        "# xtrain_tfidf = tfidf.fit_transform(x_train)\n",
        "# xtest_tfidf = tfidf.fit_transform(x_test)"
      ]
    },
    {
      "cell_type": "code",
      "execution_count": 9,
      "metadata": {
        "id": "knKVRjC9-MRc"
      },
      "outputs": [],
      "source": [
        "from sklearn.metrics import accuracy_score\n",
        "from sklearn.metrics import f1_score"
      ]
    },
    {
      "cell_type": "code",
      "execution_count": 10,
      "metadata": {
        "id": "jueYZoqAB6S_"
      },
      "outputs": [],
      "source": [
        "# word level tf-idf\n",
        "tfidf_vect = TfidfVectorizer(analyzer='word',\n",
        "                             max_features=2000)\n",
        "tfidf_vect.fit(data['sentences'])\n",
        "xtrain_tfidf =  tfidf_vect.transform(x_train)\n",
        "xtest_tfidf =  tfidf_vect.transform(x_test)\n",
        "\n",
        "# ngram level tf-idf \n",
        "tfidf_vect_ngram = TfidfVectorizer(analyzer='word', \n",
        "                                   ngram_range=(2,3), max_features=5000)\n",
        "tfidf_vect_ngram.fit(data['sentences'])\n",
        "xtrain_tfidf_ngram =  tfidf_vect_ngram.transform(x_train)\n",
        "xtest_tfidf_ngram =  tfidf_vect_ngram.transform(x_test)\n",
        "\n",
        "# characters level tf-idf\n",
        "tfidf_vect_ngram_chars = TfidfVectorizer(analyzer='char',\n",
        "                                         ngram_range=(2,3), max_features=5000)\n",
        "tfidf_vect_ngram_chars.fit(data['sentences'])\n",
        "xtrain_tfidf_ngram_chars =  tfidf_vect_ngram_chars.transform(x_train) \n",
        "xtest_tfidf_ngram_chars =  tfidf_vect_ngram_chars.transform(x_test) "
      ]
    },
    {
      "cell_type": "code",
      "execution_count": 11,
      "metadata": {
        "colab": {
          "base_uri": "https://localhost:8080/"
        },
        "id": "uZl9sgA2-Y1B",
        "outputId": "9681a61e-9af5-4654-bd2a-f2c6804c0c7f"
      },
      "outputs": [
        {
          "name": "stdout",
          "output_type": "stream",
          "text": [
            "naive bayes tfidf accuracy 0.75564681724846\n"
          ]
        }
      ],
      "source": [
        "# Model 1: Multinomial Naive Bayes Classifier\n",
        "from sklearn.naive_bayes import MultinomialNB\n",
        "nb = MultinomialNB()\n",
        "nb.fit(xtrain_tfidf, y_train)\n",
        "y_pred_nb = nb.predict(xtest_tfidf)\n",
        "print('naive bayes tfidf accuracy %s' % accuracy_score(y_pred_nb, y_test))"
      ]
    },
    {
      "cell_type": "code",
      "execution_count": 12,
      "metadata": {
        "colab": {
          "base_uri": "https://localhost:8080/"
        },
        "id": "NwexgF6M-Y3W",
        "outputId": "1067d2f1-4490-48dd-f0c1-2c70422dca60"
      },
      "outputs": [
        {
          "name": "stdout",
          "output_type": "stream",
          "text": [
            "svm using tfidf accuracy 0.8501026694045175\n"
          ]
        }
      ],
      "source": [
        "# Model 2: Linear SVM\n",
        "from sklearn.linear_model import SGDClassifier\n",
        "lsvm = SGDClassifier(loss='hinge', penalty='l2',alpha=1e-3, random_state=42)\n",
        "lsvm.fit(xtrain_tfidf, y_train)\n",
        "y_pred_lsvm = lsvm.predict(xtest_tfidf)\n",
        "print('svm using tfidf accuracy %s' % accuracy_score(y_pred_lsvm, y_test))"
      ]
    },
    {
      "cell_type": "code",
      "execution_count": 13,
      "metadata": {
        "colab": {
          "base_uri": "https://localhost:8080/"
        },
        "id": "plhoTGd7-Y5n",
        "outputId": "639c37f7-cf24-4db5-a45b-ec4bb900432a"
      },
      "outputs": [
        {
          "name": "stdout",
          "output_type": "stream",
          "text": [
            "log reg tfidf accuracy 0.8316221765913757\n"
          ]
        }
      ],
      "source": [
        "# Model 3: logistic regression\n",
        "from sklearn.linear_model import LogisticRegression\n",
        "logreg = LogisticRegression(C=1)\n",
        "logreg.fit(xtrain_tfidf_ngram_chars, y_train)\n",
        "y_pred_logreg = logreg.predict(xtest_tfidf_ngram_chars)\n",
        "print('log reg tfidf accuracy %s' % accuracy_score(y_pred_logreg, y_test))"
      ]
    },
    {
      "cell_type": "code",
      "execution_count": 14,
      "metadata": {
        "colab": {
          "base_uri": "https://localhost:8080/"
        },
        "id": "_BA3hn3G-Y8F",
        "outputId": "afea4276-b532-458e-bb69-092f1d3a0c75"
      },
      "outputs": [
        {
          "name": "stdout",
          "output_type": "stream",
          "text": [
            "random forest tfidf accuracy 0.8459958932238193\n"
          ]
        }
      ],
      "source": [
        "# Model 4: Random Forest Classifier\n",
        "from sklearn.ensemble import RandomForestClassifier\n",
        "rf = RandomForestClassifier(n_estimators=500)\n",
        "rf.fit(xtrain_tfidf_ngram_chars, y_train)\n",
        "y_pred_rf = rf.predict(xtest_tfidf_ngram_chars)\n",
        "print('random forest tfidf accuracy %s' % accuracy_score(y_pred_rf, y_test))"
      ]
    },
    {
      "cell_type": "code",
      "execution_count": 15,
      "metadata": {
        "colab": {
          "base_uri": "https://localhost:8080/"
        },
        "id": "wkdJzCMwJuyy",
        "outputId": "498d81d7-3e85-4904-d49f-fc8bbaeff0bf"
      },
      "outputs": [
        {
          "name": "stdout",
          "output_type": "stream",
          "text": [
            "svm tfidf accuracy 0.86652977412731\n"
          ]
        }
      ],
      "source": [
        "#Model 5: SVM classifier\n",
        "from sklearn import svm\n",
        "clf_svm = svm.SVC(kernel='linear')\n",
        "clf_svm.fit(xtrain_tfidf, y_train)\n",
        "y_pred_svm = clf_svm.predict(xtest_tfidf)\n",
        "print('svm tfidf accuracy %s' % accuracy_score(y_pred_svm, y_test))"
      ]
    },
    {
      "cell_type": "code",
      "execution_count": 16,
      "metadata": {
        "colab": {
          "base_uri": "https://localhost:8080/"
        },
        "id": "gxuUoYpiLkbV",
        "outputId": "0378d25e-f09e-45b9-819d-6a5539c26320"
      },
      "outputs": [
        {
          "name": "stdout",
          "output_type": "stream",
          "text": [
            "decision tree tfidf accuracy 0.813141683778234\n"
          ]
        }
      ],
      "source": [
        "#Model 6: Decision Tree classifier\n",
        "from sklearn.tree import DecisionTreeClassifier\n",
        "clf_dec = DecisionTreeClassifier()\n",
        "clf_dec.fit(xtrain_tfidf, y_train)\n",
        "y_pred_dec = clf_dec.predict(xtest_tfidf)\n",
        "print('decision tree tfidf accuracy %s' % accuracy_score(y_pred_dec, y_test))"
      ]
    },
    {
      "cell_type": "code",
      "execution_count": 17,
      "metadata": {
        "id": "l8DBzPrFN_uj"
      },
      "outputs": [],
      "source": [
        "# pickle.dump(nb,open('Multinomial_Naive_Bayes_Classifier.pkl',\"wb\"))\n",
        "# pickle.dump(lsvm,open('SGD_Classifier.pkl',\"wb\"))\n",
        "# pickle.dump(logreg,open('Logistic_regression_Classifier.pkl',\"wb\"))\n",
        "# pickle.dump(rf,open('Random_forest_Classifier.pkl',\"wb\"))\n",
        "# pickle.dump(clf_svm,open('SVM_Classifier.pkl',\"wb\"))\n",
        "# pickle.dump(clf_dec,open('Decision_tree_Classifier.pkl',\"wb\"))\n"
      ]
    },
    {
      "cell_type": "code",
      "execution_count": 18,
      "metadata": {
        "id": "k3rMLI-1JeEL"
      },
      "outputs": [
        {
          "name": "stdout",
          "output_type": "stream",
          "text": [
            "naive bayes tfidf accuracy 0.75564681724846\n",
            "svm using tfidf accuracy 0.8501026694045175\n",
            "logistic reg tfidf accuracy 0.8316221765913757\n",
            "random forest tfidf accuracy 0.8459958932238193\n",
            "svm tfidf accuracy 0.86652977412731\n",
            "decision tree tfidf accuracy 0.813141683778234\n"
          ]
        }
      ],
      "source": [
        "print('naive bayes tfidf accuracy %s' % accuracy_score(y_pred_nb, y_test))\n",
        "print('svm using tfidf accuracy %s' % accuracy_score(y_pred_lsvm, y_test))\n",
        "print('logistic reg tfidf accuracy %s' % accuracy_score(y_pred_logreg, y_test))\n",
        "print('random forest tfidf accuracy %s' % accuracy_score(y_pred_rf, y_test))\n",
        "print('svm tfidf accuracy %s' % accuracy_score(y_pred_svm, y_test))\n",
        "print('decision tree tfidf accuracy %s' % accuracy_score(y_pred_dec, y_test))"
      ]
    },
    {
      "cell_type": "code",
      "execution_count": 21,
      "metadata": {
        "id": "kf4agcdXN0fs"
      },
      "outputs": [
        {
          "name": "stdout",
          "output_type": "stream",
          "text": [
            "[1.]\n"
          ]
        }
      ],
      "source": [
        "def testing(sample):\n",
        "  sample = pd.DataFrame([sample])\n",
        "  # sample[0] = sample[0].str.replace('[^\\w\\s]',' ')\n",
        "  # stop = stopwords.words('english')\n",
        "  # sample[0] = sample[0].apply(lambda x: \" \".join(x for x in x.split() if x not in stop))\n",
        "  # sample[0] = sample[0].apply(lambda x: \" \".join([Word(word).lemmatize() for word in x.split()]))\n",
        "  # tfidf_vect.fit(data['sentences'])\n",
        "  sample =  tfidf_vect.transform(sample[0])\n",
        "  sample_pred = clf_svm.predict(sample)\n",
        "  print(sample_pred)\n",
        "\n",
        "testing(\"fine\")"
      ]
    },
    {
      "cell_type": "code",
      "execution_count": null,
      "metadata": {},
      "outputs": [],
      "source": []
    }
  ],
  "metadata": {
    "colab": {
      "name": "second.ipynb",
      "provenance": []
    },
    "interpreter": {
      "hash": "68b6e4a7260a31c332117d03aa155b21587177fd4b833cfc02fbee13ddac39ce"
    },
    "kernelspec": {
      "display_name": "Python 3.10.4 64-bit",
      "language": "python",
      "name": "python3"
    },
    "language_info": {
      "codemirror_mode": {
        "name": "ipython",
        "version": 3
      },
      "file_extension": ".py",
      "mimetype": "text/x-python",
      "name": "python",
      "nbconvert_exporter": "python",
      "pygments_lexer": "ipython3",
      "version": "3.9.7"
    },
    "orig_nbformat": 4
  },
  "nbformat": 4,
  "nbformat_minor": 0
}
