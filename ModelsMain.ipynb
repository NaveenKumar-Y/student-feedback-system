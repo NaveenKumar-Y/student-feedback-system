{
  "cells": [
    {
      "cell_type": "code",
      "execution_count": 193,
      "metadata": {
        "id": "sjlLvVoX7pUj"
      },
      "outputs": [],
      "source": [
        "import pandas as pd\n",
        "import numpy as np\n",
        "import pickle\n",
        "import nltk\n",
        "#nltk.download()\n",
        "from sklearn.feature_extraction.text import CountVectorizer\n",
        "from sklearn.feature_extraction.text import TfidfTransformer\n",
        "from sklearn.pipeline import Pipeline\n",
        "from nltk.stem.snowball import SnowballStemmer\n",
        "from sklearn.linear_model import SGDClassifier\n",
        "from sklearn.naive_bayes import MultinomialNB\n",
        "from sklearn.tree import DecisionTreeClassifier\n",
        "from sklearn.model_selection import train_test_split"
      ]
    },
    {
      "cell_type": "code",
      "execution_count": 194,
      "metadata": {
        "id": "FBBZ4qXa7pUn"
      },
      "outputs": [],
      "source": [
        "path = '/content/trainingdata.csv'\n",
        "data = pd.read_csv(path)\n",
        "data = data.dropna()"
      ]
    },
    {
      "cell_type": "code",
      "execution_count": 195,
      "metadata": {
        "colab": {
          "base_uri": "https://localhost:8080/",
          "height": 206
        },
        "id": "X7tOKA-z7pUo",
        "outputId": "7f36f69c-04e7-4d41-8578-13792c05435c"
      },
      "outputs": [
        {
          "output_type": "execute_result",
          "data": {
            "text/plain": [
              "   sentiments                                          sentences\n",
              "0        -1.0          I can't understand the method of teaching\n",
              "1         1.0  The instructor was interested in the students ...\n",
              "2        -1.0  The instructor don't use any examples for expl...\n",
              "3         0.0          Teaching is good but always late to class\n",
              "4        -1.0                               Explaination is poor"
            ],
            "text/html": [
              "\n",
              "  <div id=\"df-31f8bb10-25a6-4e14-8b0d-a2cd7e1d5261\">\n",
              "    <div class=\"colab-df-container\">\n",
              "      <div>\n",
              "<style scoped>\n",
              "    .dataframe tbody tr th:only-of-type {\n",
              "        vertical-align: middle;\n",
              "    }\n",
              "\n",
              "    .dataframe tbody tr th {\n",
              "        vertical-align: top;\n",
              "    }\n",
              "\n",
              "    .dataframe thead th {\n",
              "        text-align: right;\n",
              "    }\n",
              "</style>\n",
              "<table border=\"1\" class=\"dataframe\">\n",
              "  <thead>\n",
              "    <tr style=\"text-align: right;\">\n",
              "      <th></th>\n",
              "      <th>sentiments</th>\n",
              "      <th>sentences</th>\n",
              "    </tr>\n",
              "  </thead>\n",
              "  <tbody>\n",
              "    <tr>\n",
              "      <th>0</th>\n",
              "      <td>-1.0</td>\n",
              "      <td>I can't understand the method of teaching</td>\n",
              "    </tr>\n",
              "    <tr>\n",
              "      <th>1</th>\n",
              "      <td>1.0</td>\n",
              "      <td>The instructor was interested in the students ...</td>\n",
              "    </tr>\n",
              "    <tr>\n",
              "      <th>2</th>\n",
              "      <td>-1.0</td>\n",
              "      <td>The instructor don't use any examples for expl...</td>\n",
              "    </tr>\n",
              "    <tr>\n",
              "      <th>3</th>\n",
              "      <td>0.0</td>\n",
              "      <td>Teaching is good but always late to class</td>\n",
              "    </tr>\n",
              "    <tr>\n",
              "      <th>4</th>\n",
              "      <td>-1.0</td>\n",
              "      <td>Explaination is poor</td>\n",
              "    </tr>\n",
              "  </tbody>\n",
              "</table>\n",
              "</div>\n",
              "      <button class=\"colab-df-convert\" onclick=\"convertToInteractive('df-31f8bb10-25a6-4e14-8b0d-a2cd7e1d5261')\"\n",
              "              title=\"Convert this dataframe to an interactive table.\"\n",
              "              style=\"display:none;\">\n",
              "        \n",
              "  <svg xmlns=\"http://www.w3.org/2000/svg\" height=\"24px\"viewBox=\"0 0 24 24\"\n",
              "       width=\"24px\">\n",
              "    <path d=\"M0 0h24v24H0V0z\" fill=\"none\"/>\n",
              "    <path d=\"M18.56 5.44l.94 2.06.94-2.06 2.06-.94-2.06-.94-.94-2.06-.94 2.06-2.06.94zm-11 1L8.5 8.5l.94-2.06 2.06-.94-2.06-.94L8.5 2.5l-.94 2.06-2.06.94zm10 10l.94 2.06.94-2.06 2.06-.94-2.06-.94-.94-2.06-.94 2.06-2.06.94z\"/><path d=\"M17.41 7.96l-1.37-1.37c-.4-.4-.92-.59-1.43-.59-.52 0-1.04.2-1.43.59L10.3 9.45l-7.72 7.72c-.78.78-.78 2.05 0 2.83L4 21.41c.39.39.9.59 1.41.59.51 0 1.02-.2 1.41-.59l7.78-7.78 2.81-2.81c.8-.78.8-2.07 0-2.86zM5.41 20L4 18.59l7.72-7.72 1.47 1.35L5.41 20z\"/>\n",
              "  </svg>\n",
              "      </button>\n",
              "      \n",
              "  <style>\n",
              "    .colab-df-container {\n",
              "      display:flex;\n",
              "      flex-wrap:wrap;\n",
              "      gap: 12px;\n",
              "    }\n",
              "\n",
              "    .colab-df-convert {\n",
              "      background-color: #E8F0FE;\n",
              "      border: none;\n",
              "      border-radius: 50%;\n",
              "      cursor: pointer;\n",
              "      display: none;\n",
              "      fill: #1967D2;\n",
              "      height: 32px;\n",
              "      padding: 0 0 0 0;\n",
              "      width: 32px;\n",
              "    }\n",
              "\n",
              "    .colab-df-convert:hover {\n",
              "      background-color: #E2EBFA;\n",
              "      box-shadow: 0px 1px 2px rgba(60, 64, 67, 0.3), 0px 1px 3px 1px rgba(60, 64, 67, 0.15);\n",
              "      fill: #174EA6;\n",
              "    }\n",
              "\n",
              "    [theme=dark] .colab-df-convert {\n",
              "      background-color: #3B4455;\n",
              "      fill: #D2E3FC;\n",
              "    }\n",
              "\n",
              "    [theme=dark] .colab-df-convert:hover {\n",
              "      background-color: #434B5C;\n",
              "      box-shadow: 0px 1px 3px 1px rgba(0, 0, 0, 0.15);\n",
              "      filter: drop-shadow(0px 1px 2px rgba(0, 0, 0, 0.3));\n",
              "      fill: #FFFFFF;\n",
              "    }\n",
              "  </style>\n",
              "\n",
              "      <script>\n",
              "        const buttonEl =\n",
              "          document.querySelector('#df-31f8bb10-25a6-4e14-8b0d-a2cd7e1d5261 button.colab-df-convert');\n",
              "        buttonEl.style.display =\n",
              "          google.colab.kernel.accessAllowed ? 'block' : 'none';\n",
              "\n",
              "        async function convertToInteractive(key) {\n",
              "          const element = document.querySelector('#df-31f8bb10-25a6-4e14-8b0d-a2cd7e1d5261');\n",
              "          const dataTable =\n",
              "            await google.colab.kernel.invokeFunction('convertToInteractive',\n",
              "                                                     [key], {});\n",
              "          if (!dataTable) return;\n",
              "\n",
              "          const docLinkHtml = 'Like what you see? Visit the ' +\n",
              "            '<a target=\"_blank\" href=https://colab.research.google.com/notebooks/data_table.ipynb>data table notebook</a>'\n",
              "            + ' to learn more about interactive tables.';\n",
              "          element.innerHTML = '';\n",
              "          dataTable['output_type'] = 'display_data';\n",
              "          await google.colab.output.renderOutput(dataTable, element);\n",
              "          const docLink = document.createElement('div');\n",
              "          docLink.innerHTML = docLinkHtml;\n",
              "          element.appendChild(docLink);\n",
              "        }\n",
              "      </script>\n",
              "    </div>\n",
              "  </div>\n",
              "  "
            ]
          },
          "metadata": {},
          "execution_count": 195
        }
      ],
      "source": [
        "data.head()"
      ]
    },
    {
      "cell_type": "code",
      "execution_count": 196,
      "metadata": {
        "id": "nvxWl16G7pUp"
      },
      "outputs": [],
      "source": [
        "# nltk.download('stopwords')\n",
        "# data['sentences'] = data['sentences'].apply(lambda x: \" \".join(x.lower() for x in x.split()))\n",
        "\n",
        "# #Removing Punctuation, Symbols\n",
        "# data['sentences'] = data['sentences'].str.replace('[^\\w\\s]',' ')\n",
        "\n",
        "# #Removing Stop Words using NLTK\n",
        "# from nltk.corpus import stopwords\n",
        "# stop = stopwords.words('english')\n",
        "# data['sentences'] = data['sentences'].apply(lambda x: \" \".join(x for x in x.split() if x not in stop))"
      ]
    },
    {
      "cell_type": "code",
      "execution_count": 197,
      "metadata": {
        "id": "ZIbf_Vbu7pUr"
      },
      "outputs": [],
      "source": [
        "# # Lemmatisation\n",
        "# !pip install textblob\n",
        "# nltk.download('textblob')\n",
        "# nltk.download('wordnet')\n",
        "# from textblob import Word\n",
        "# data['sentences'] = data['sentences'].apply(lambda x: \" \".join([Word(word).lemmatize() for word in x.split()]))\n",
        "\n",
        "# #Correcting Letter Repetitions\n",
        "# import re\n",
        "# def de_repeat(text):\n",
        "#     pattern = re.compile(r\"(.)\\1{2,}\")\n",
        "#     return pattern.sub(r\"\\1\\1\", text)\n",
        "\n",
        "# #%%\n",
        "# data['sentences'] = data['sentences'].apply(lambda x: \" \".join(de_repeat(x) for x in x.split()))"
      ]
    },
    {
      "cell_type": "code",
      "execution_count": 198,
      "metadata": {
        "id": "mWmglcYL7pUr"
      },
      "outputs": [],
      "source": [
        "# extract the labels from the train data\n",
        "y = data.sentiments.values\n",
        "\n",
        "# use 80% for the training and 20% for the test\n",
        "x_train, x_test, y_train, y_test = train_test_split(data.sentences.values, y, \n",
        "                                                    stratify=y, \n",
        "                                                    random_state=1, \n",
        "                                                    test_size=0.2, shuffle=True)"
      ]
    },
    {
      "cell_type": "code",
      "execution_count": 199,
      "metadata": {
        "id": "0ljqfK137pUs"
      },
      "outputs": [],
      "source": [
        "# Extracting TF-IDF parameters\n",
        "from sklearn.feature_extraction.text import TfidfVectorizer\n",
        "tfidf = TfidfVectorizer(max_features=1000, analyzer='word',ngram_range=(1,3))\n",
        "xtrain_tfidf = tfidf.fit_transform(x_train)\n",
        "xtest_tfidf = tfidf.fit_transform(x_test)"
      ]
    },
    {
      "cell_type": "code",
      "source": [
        "from sklearn.metrics import accuracy_score\n",
        "from sklearn.metrics import f1_score"
      ],
      "metadata": {
        "id": "knKVRjC9-MRc"
      },
      "execution_count": 200,
      "outputs": []
    },
    {
      "cell_type": "code",
      "source": [
        "# word level tf-idf\n",
        "tfidf_vect = TfidfVectorizer(analyzer='word',\n",
        "                             max_features=2000)\n",
        "tfidf_vect.fit(data['sentences'])\n",
        "xtrain_tfidf =  tfidf_vect.transform(x_train)\n",
        "xtest_tfidf =  tfidf_vect.transform(x_test)\n",
        "\n",
        "# ngram level tf-idf \n",
        "tfidf_vect_ngram = TfidfVectorizer(analyzer='word', \n",
        "                                   ngram_range=(2,3), max_features=5000)\n",
        "tfidf_vect_ngram.fit(data['sentences'])\n",
        "xtrain_tfidf_ngram =  tfidf_vect_ngram.transform(x_train)\n",
        "xtest_tfidf_ngram =  tfidf_vect_ngram.transform(x_test)\n",
        "\n",
        "# characters level tf-idf\n",
        "tfidf_vect_ngram_chars = TfidfVectorizer(analyzer='char',\n",
        "                                         ngram_range=(2,3), max_features=5000)\n",
        "tfidf_vect_ngram_chars.fit(data['sentences'])\n",
        "xtrain_tfidf_ngram_chars =  tfidf_vect_ngram_chars.transform(x_train) \n",
        "xtest_tfidf_ngram_chars =  tfidf_vect_ngram_chars.transform(x_test) "
      ],
      "metadata": {
        "id": "jueYZoqAB6S_"
      },
      "execution_count": 201,
      "outputs": []
    },
    {
      "cell_type": "code",
      "source": [
        "# Model 1: Multinomial Naive Bayes Classifier\n",
        "from sklearn.naive_bayes import MultinomialNB\n",
        "nb = MultinomialNB()\n",
        "nb.fit(xtrain_tfidf, y_train)\n",
        "y_pred = nb.predict(xtest_tfidf)\n",
        "print('naive bayes tfidf accuracy %s' % accuracy_score(y_pred, y_test))"
      ],
      "metadata": {
        "colab": {
          "base_uri": "https://localhost:8080/"
        },
        "id": "uZl9sgA2-Y1B",
        "outputId": "9681a61e-9af5-4654-bd2a-f2c6804c0c7f"
      },
      "execution_count": 202,
      "outputs": [
        {
          "output_type": "stream",
          "name": "stdout",
          "text": [
            "naive bayes tfidf accuracy 0.75564681724846\n"
          ]
        }
      ]
    },
    {
      "cell_type": "code",
      "source": [
        "# Model 2: Linear SVM\n",
        "from sklearn.linear_model import SGDClassifier\n",
        "lsvm = SGDClassifier(loss='hinge', penalty='l2',alpha=1e-3, random_state=42)\n",
        "lsvm.fit(xtrain_tfidf, y_train)\n",
        "y_pred = lsvm.predict(xtest_tfidf)\n",
        "print('svm using tfidf accuracy %s' % accuracy_score(y_pred, y_test))"
      ],
      "metadata": {
        "colab": {
          "base_uri": "https://localhost:8080/"
        },
        "id": "NwexgF6M-Y3W",
        "outputId": "1067d2f1-4490-48dd-f0c1-2c70422dca60"
      },
      "execution_count": 205,
      "outputs": [
        {
          "output_type": "stream",
          "name": "stdout",
          "text": [
            "svm using tfidf accuracy 0.8501026694045175\n"
          ]
        }
      ]
    },
    {
      "cell_type": "code",
      "source": [
        "# Model 3: logistic regression\n",
        "from sklearn.linear_model import LogisticRegression\n",
        "logreg = LogisticRegression(C=1)\n",
        "logreg.fit(xtrain_tfidf_ngram_chars, y_train)\n",
        "y_pred = logreg.predict(xtest_tfidf_ngram_chars)\n",
        "print('log reg tfidf accuracy %s' % accuracy_score(y_pred, y_test))"
      ],
      "metadata": {
        "colab": {
          "base_uri": "https://localhost:8080/"
        },
        "id": "plhoTGd7-Y5n",
        "outputId": "639c37f7-cf24-4db5-a45b-ec4bb900432a"
      },
      "execution_count": 206,
      "outputs": [
        {
          "output_type": "stream",
          "name": "stdout",
          "text": [
            "log reg tfidf accuracy 0.8316221765913757\n"
          ]
        }
      ]
    },
    {
      "cell_type": "code",
      "source": [
        "# Model 4: Random Forest Classifier\n",
        "from sklearn.ensemble import RandomForestClassifier\n",
        "rf = RandomForestClassifier(n_estimators=500)\n",
        "rf.fit(xtrain_tfidf_ngram_chars, y_train)\n",
        "y_pred = rf.predict(xtest_tfidf_ngram_chars)\n",
        "print('random forest tfidf accuracy %s' % accuracy_score(y_pred, y_test))"
      ],
      "metadata": {
        "colab": {
          "base_uri": "https://localhost:8080/"
        },
        "id": "_BA3hn3G-Y8F",
        "outputId": "afea4276-b532-458e-bb69-092f1d3a0c75"
      },
      "execution_count": 207,
      "outputs": [
        {
          "output_type": "stream",
          "name": "stdout",
          "text": [
            "random forest tfidf accuracy 0.8459958932238193\n"
          ]
        }
      ]
    },
    {
      "cell_type": "code",
      "source": [
        "#Model 5: SVM classifier\n",
        "from sklearn import svm\n",
        "clf_svm = svm.SVC(kernel='linear')\n",
        "clf_svm.fit(xtrain_tfidf, y_train)\n",
        "y_pred = clf_svm.predict(xtest_tfidf)\n",
        "print('naive bayes tfidf accuracy %s' % accuracy_score(y_pred, y_test))"
      ],
      "metadata": {
        "colab": {
          "base_uri": "https://localhost:8080/"
        },
        "id": "wkdJzCMwJuyy",
        "outputId": "498d81d7-3e85-4904-d49f-fc8bbaeff0bf"
      },
      "execution_count": 203,
      "outputs": [
        {
          "output_type": "stream",
          "name": "stdout",
          "text": [
            "naive bayes tfidf accuracy 0.86652977412731\n"
          ]
        }
      ]
    },
    {
      "cell_type": "code",
      "source": [
        "#Model 6: Decision Tree classifier\n",
        "from sklearn.tree import DecisionTreeClassifier\n",
        "clf_dec = DecisionTreeClassifier()\n",
        "clf_dec.fit(xtrain_tfidf, y_train)\n",
        "y_pred = clf_dec.predict(xtest_tfidf)\n",
        "print('naive bayes tfidf accuracy %s' % accuracy_score(y_pred, y_test))"
      ],
      "metadata": {
        "colab": {
          "base_uri": "https://localhost:8080/"
        },
        "id": "gxuUoYpiLkbV",
        "outputId": "0378d25e-f09e-45b9-819d-6a5539c26320"
      },
      "execution_count": 204,
      "outputs": [
        {
          "output_type": "stream",
          "name": "stdout",
          "text": [
            "naive bayes tfidf accuracy 0.8008213552361396\n"
          ]
        }
      ]
    },
    {
      "cell_type": "code",
      "source": [
        "# pickle.dump(nb,open('/content/Multinomial_Naive_Bayes_Classifier.pkl',\"wb\"))\n",
        "# pickle.dump(lsvm,open('/content/SGD_Classifier.pkl',\"wb\"))\n",
        "# pickle.dump(logreg,open('/content/Logistic_regression_Classifier.pkl',\"wb\"))\n",
        "# pickle.dump(rf,open('/content/Random_forest_Classifier.pkl',\"wb\"))\n",
        "# pickle.dump(clf_svm,open('/content/SVM_Classifier.pkl',\"wb\"))\n",
        "# pickle.dump(clf_dec,open('/content/Decision_tree_Classifier.pkl',\"wb\"))\n"
      ],
      "metadata": {
        "id": "l8DBzPrFN_uj"
      },
      "execution_count": 215,
      "outputs": []
    },
    {
      "cell_type": "code",
      "source": [
        "def testing(sample):\n",
        "  sample = pd.DataFrame([sample])\n",
        "  # sample[0] = sample[0].str.replace('[^\\w\\s]',' ')\n",
        "  # stop = stopwords.words('english')\n",
        "  # sample[0] = sample[0].apply(lambda x: \" \".join(x for x in x.split() if x not in stop))\n",
        "  # sample[0] = sample[0].apply(lambda x: \" \".join([Word(word).lemmatize() for word in x.split()]))\n",
        "  # tfidf_vect.fit(data['sentences'])\n",
        "  sample =  tfidf_vect.transform(sample[0])\n",
        "  sample_pred = clf_svm.predict(sample)\n",
        "  print(sample_pred)\n",
        "\n",
        "testing(\"teaching was not good\")"
      ],
      "metadata": {
        "colab": {
          "base_uri": "https://localhost:8080/"
        },
        "id": "Y67GJda3AQRR",
        "outputId": "6226bfbf-25e8-4e2c-ddc3-8164d54215c2"
      },
      "execution_count": 216,
      "outputs": [
        {
          "output_type": "stream",
          "name": "stdout",
          "text": [
            "[-1.]\n"
          ]
        }
      ]
    },
    {
      "cell_type": "code",
      "source": [
        ""
      ],
      "metadata": {
        "id": "k3rMLI-1JeEL"
      },
      "execution_count": 208,
      "outputs": []
    },
    {
      "cell_type": "code",
      "source": [
        ""
      ],
      "metadata": {
        "id": "kf4agcdXN0fs"
      },
      "execution_count": null,
      "outputs": []
    },
    {
      "cell_type": "code",
      "source": [
        ""
      ],
      "metadata": {
        "id": "BFnWg2PbN0jE"
      },
      "execution_count": null,
      "outputs": []
    }
  ],
  "metadata": {
    "interpreter": {
      "hash": "68b6e4a7260a31c332117d03aa155b21587177fd4b833cfc02fbee13ddac39ce"
    },
    "kernelspec": {
      "display_name": "Python 3.10.4 64-bit",
      "language": "python",
      "name": "python3"
    },
    "language_info": {
      "codemirror_mode": {
        "name": "ipython",
        "version": 3
      },
      "file_extension": ".py",
      "mimetype": "text/x-python",
      "name": "python",
      "nbconvert_exporter": "python",
      "pygments_lexer": "ipython3",
      "version": "3.9.7"
    },
    "orig_nbformat": 4,
    "colab": {
      "name": "second.ipynb",
      "provenance": []
    }
  },
  "nbformat": 4,
  "nbformat_minor": 0
}